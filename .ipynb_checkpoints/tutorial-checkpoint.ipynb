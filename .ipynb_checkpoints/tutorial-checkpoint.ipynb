{
 "cells": [
  {
   "cell_type": "markdown",
   "metadata": {},
   "source": [
    "# Item2Vec\n",
    "Item2Vec: Neural Item Embedding for Collaborative Filtering\n",
    "***"
   ]
  },
  {
   "cell_type": "markdown",
   "metadata": {},
   "source": [
    "## References\n",
    "- Paper: https://arxiv.org/vc/arxiv/papers/1603/1603.04259v2.pdf\n",
    "- Dataset: https://grouplens.org/datasets/movielens/\n",
    "- Source Code:\n",
    "https://github.com/bwange/Item2vec_Tutorial_with_Recommender_System_Application/blob/master/Making_Your_Own_Recommender_System_with_Item2Vec.ipynb\n",
    "\n",
    "***"
   ]
  },
  {
   "cell_type": "markdown",
   "metadata": {},
   "source": [
    "##  Preparing the Data\n",
    "- MovieLens 데이터셋을 사용하여 데이터를 읽습니다.\n"
   ]
  },
  {
   "cell_type": "code",
   "execution_count": 16,
   "metadata": {},
   "outputs": [
    {
     "data": {
      "text/html": [
       "<div>\n",
       "<style scoped>\n",
       "    .dataframe tbody tr th:only-of-type {\n",
       "        vertical-align: middle;\n",
       "    }\n",
       "\n",
       "    .dataframe tbody tr th {\n",
       "        vertical-align: top;\n",
       "    }\n",
       "\n",
       "    .dataframe thead th {\n",
       "        text-align: right;\n",
       "    }\n",
       "</style>\n",
       "<table border=\"1\" class=\"dataframe\">\n",
       "  <thead>\n",
       "    <tr style=\"text-align: right;\">\n",
       "      <th></th>\n",
       "      <th>movieId</th>\n",
       "      <th>title</th>\n",
       "      <th>genres</th>\n",
       "    </tr>\n",
       "  </thead>\n",
       "  <tbody>\n",
       "    <tr>\n",
       "      <th>1522</th>\n",
       "      <td>1573</td>\n",
       "      <td>Face/Off (1997)</td>\n",
       "      <td>Action|Crime|Drama|Thriller</td>\n",
       "    </tr>\n",
       "    <tr>\n",
       "      <th>15628</th>\n",
       "      <td>79551</td>\n",
       "      <td>Shifty (2008)</td>\n",
       "      <td>Crime|Thriller</td>\n",
       "    </tr>\n",
       "    <tr>\n",
       "      <th>10149</th>\n",
       "      <td>33675</td>\n",
       "      <td>After You (Après vous...) (2003)</td>\n",
       "      <td>Comedy|Romance</td>\n",
       "    </tr>\n",
       "    <tr>\n",
       "      <th>17026</th>\n",
       "      <td>86288</td>\n",
       "      <td>Day the Universe Changed, The (1985)</td>\n",
       "      <td>Documentary</td>\n",
       "    </tr>\n",
       "    <tr>\n",
       "      <th>8135</th>\n",
       "      <td>8818</td>\n",
       "      <td>It Happened at the World's Fair (1963)</td>\n",
       "      <td>Comedy|Drama|Musical</td>\n",
       "    </tr>\n",
       "  </tbody>\n",
       "</table>\n",
       "</div>"
      ],
      "text/plain": [
       "       movieId                                   title  \\\n",
       "1522      1573                         Face/Off (1997)   \n",
       "15628    79551                           Shifty (2008)   \n",
       "10149    33675        After You (Après vous...) (2003)   \n",
       "17026    86288    Day the Universe Changed, The (1985)   \n",
       "8135      8818  It Happened at the World's Fair (1963)   \n",
       "\n",
       "                            genres  \n",
       "1522   Action|Crime|Drama|Thriller  \n",
       "15628               Crime|Thriller  \n",
       "10149               Comedy|Romance  \n",
       "17026                  Documentary  \n",
       "8135          Comedy|Drama|Musical  "
      ]
     },
     "metadata": {},
     "output_type": "display_data"
    },
    {
     "name": "stdout",
     "output_type": "stream",
     "text": [
      "Randomly displaying 5 of the total 27278 data points\n"
     ]
    },
    {
     "data": {
      "text/html": [
       "<div>\n",
       "<style scoped>\n",
       "    .dataframe tbody tr th:only-of-type {\n",
       "        vertical-align: middle;\n",
       "    }\n",
       "\n",
       "    .dataframe tbody tr th {\n",
       "        vertical-align: top;\n",
       "    }\n",
       "\n",
       "    .dataframe thead th {\n",
       "        text-align: right;\n",
       "    }\n",
       "</style>\n",
       "<table border=\"1\" class=\"dataframe\">\n",
       "  <thead>\n",
       "    <tr style=\"text-align: right;\">\n",
       "      <th></th>\n",
       "      <th>userId</th>\n",
       "      <th>movieId</th>\n",
       "      <th>rating</th>\n",
       "      <th>timestamp</th>\n",
       "    </tr>\n",
       "  </thead>\n",
       "  <tbody>\n",
       "    <tr>\n",
       "      <th>1407419</th>\n",
       "      <td>9535</td>\n",
       "      <td>2918</td>\n",
       "      <td>3.5</td>\n",
       "      <td>1111483455</td>\n",
       "    </tr>\n",
       "    <tr>\n",
       "      <th>11903870</th>\n",
       "      <td>82171</td>\n",
       "      <td>253</td>\n",
       "      <td>2.5</td>\n",
       "      <td>1111477323</td>\n",
       "    </tr>\n",
       "    <tr>\n",
       "      <th>15239475</th>\n",
       "      <td>105343</td>\n",
       "      <td>4443</td>\n",
       "      <td>3.5</td>\n",
       "      <td>1181327416</td>\n",
       "    </tr>\n",
       "    <tr>\n",
       "      <th>12132651</th>\n",
       "      <td>83811</td>\n",
       "      <td>10</td>\n",
       "      <td>4.0</td>\n",
       "      <td>839944095</td>\n",
       "    </tr>\n",
       "    <tr>\n",
       "      <th>11132238</th>\n",
       "      <td>76930</td>\n",
       "      <td>3489</td>\n",
       "      <td>4.0</td>\n",
       "      <td>1418475627</td>\n",
       "    </tr>\n",
       "  </tbody>\n",
       "</table>\n",
       "</div>"
      ],
      "text/plain": [
       "          userId  movieId  rating   timestamp\n",
       "1407419     9535     2918     3.5  1111483455\n",
       "11903870   82171      253     2.5  1111477323\n",
       "15239475  105343     4443     3.5  1181327416\n",
       "12132651   83811       10     4.0   839944095\n",
       "11132238   76930     3489     4.0  1418475627"
      ]
     },
     "metadata": {},
     "output_type": "display_data"
    },
    {
     "name": "stdout",
     "output_type": "stream",
     "text": [
      "Randomly displaying 5 of the total 20000263 data points\n"
     ]
    }
   ],
   "source": [
    "import pandas as pd\n",
    "import numpy as np\n",
    "\n",
    "# 데이터 읽기\n",
    "df_movies = pd.read_csv('../dataset/ml-20m/movies.csv') # 영화 데이터\n",
    "df_ratings = pd.read_csv('../dataset/ml-20m/ratings.csv') # user의 rating 데이터\n",
    "\n",
    "# 인코딩\n",
    "movieId_to_name = pd.Series(df_movies.title.values, index = df_movies.movieId.values)\n",
    "name_to_movieId = pd.Series(df_movies.movieId.values, index = df_movies.title).to_dict()\n",
    "\n",
    "# Randomly display 5 records in the dataframe\n",
    "for df in list((df_movies, df_ratings)):\n",
    "    rand_idx = np.random.choice(len(df), 5, replace=False)\n",
    "    display(df.iloc[rand_idx,:])\n",
    "    print(\"Randomly displaying 5 of the total \"+str(len(df))+\" data points\")"
   ]
  },
  {
   "cell_type": "markdown",
   "metadata": {},
   "source": [
    "## Rating Histogram\n",
    "- User가 rating한 영화의 개수를 히스토그램으로 시각화합니다."
   ]
  },
  {
   "cell_type": "code",
   "execution_count": 19,
   "metadata": {},
   "outputs": [
    {
     "data": {
      "image/png": "[encoded data removed]",
      "text/plain": [
       "<Figure size 576x432 with 1 Axes>"
      ]
     },
     "metadata": {
      "needs_background": "light"
     },
     "output_type": "display_data"
    }
   ],
   "source": [
    "import matplotlib.pyplot as plt\n",
    "import chart_studio.plotly as py\n",
    "%matplotlib inline\n",
    "\n",
    "plt.figure(figsize=(8, 6))\n",
    "ax = plt.subplot(111)\n",
    "ax.set_title(\"Distribution of Movie Ratings\", fontsize=16)\n",
    "ax.spines[\"top\"].set_visible(False)  \n",
    "ax.spines[\"right\"].set_visible(False)  \n",
    "  \n",
    "plt.xticks(fontsize=12)  \n",
    "plt.yticks(fontsize=12)  \n",
    "  \n",
    "plt.xlabel(\"Movie Rating\", fontsize=14)  \n",
    "plt.ylabel(\"Count\", fontsize=14)  \n",
    "  \n",
    "plt.hist(df_ratings['rating'], color=\"#3F5D7D\")  \n",
    "\n",
    "plt.show()"
   ]
  },
  {
   "cell_type": "code",
   "execution_count": null,
   "metadata": {},
   "outputs": [],
   "source": []
  }
 ],
 "metadata": {
  "kernelspec": {
   "display_name": "Python 3",
   "language": "python",
   "name": "python3"
  },
  "language_info": {
   "codemirror_mode": {
    "name": "ipython",
    "version": 3
   },
   "file_extension": ".py",
   "mimetype": "text/x-python",
   "name": "python",
   "nbconvert_exporter": "python",
   "pygments_lexer": "ipython3",
   "version": "3.6.10"
  }
 },
 "nbformat": 4,
 "nbformat_minor": 4
}
